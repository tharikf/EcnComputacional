{
 "cells": [
  {
   "cell_type": "markdown",
   "id": "37221517",
   "metadata": {},
   "source": [
    "### Lista de Exercício 1"
   ]
  },
  {
   "cell_type": "code",
   "execution_count": 1,
   "id": "c9ab2cc9",
   "metadata": {},
   "outputs": [],
   "source": [
    "import numpy as np\n",
    "import pandas as pd\n",
    "\n",
    "import matplotlib as mpl\n",
    "import matplotlib.pyplot as plt\n",
    "import seaborn as sns\n",
    "\n",
    "import contextily\n",
    "import folium\n",
    "import geopandas"
   ]
  },
  {
   "cell_type": "code",
   "execution_count": 2,
   "id": "efc6ba1f",
   "metadata": {},
   "outputs": [],
   "source": [
    "#### Carregando os dados\n",
    "# Importando \"listings data\"\n",
    "url_listings = \"https://data.insideairbnb.com/brazil/rj/rio-de-janeiro/2024-12-27/data/listings.csv.gz\"\n",
    "df_listings = pd.read_csv(url_listings)\n",
    "\n",
    "# Importando \"calendar data\"\n",
    "url_calendar = \"https://data.insideairbnb.com/brazil/rj/rio-de-janeiro/2024-12-27/data/calendar.csv.gz\"\n",
    "# OBS: Vamos chamar o arquivo de \"df_prices\" para facilitar a manipulação\n",
    "df_prices = pd.read_csv(url_calendar, compression=\"gzip\")"
   ]
  },
  {
   "cell_type": "code",
   "execution_count": 3,
   "id": "68072d75",
   "metadata": {},
   "outputs": [
    {
     "data": {
      "text/plain": [
       "dtype('O')"
      ]
     },
     "execution_count": 3,
     "metadata": {},
     "output_type": "execute_result"
    }
   ],
   "source": [
    "df_prices['price'].dtype"
   ]
  },
  {
   "cell_type": "code",
   "execution_count": 4,
   "id": "2ac19ce8",
   "metadata": {},
   "outputs": [],
   "source": [
    "def tratamento_df_prices(dados):\n",
    "\n",
    "    df = dados.copy()\n",
    "\n",
    "    # Editando coluna price e transformando em float\n",
    "    df['price'] = df['price'].str.replace('[$,]', '', regex = True).astype(float)\n",
    "\n",
    "    # Editando coluna date\n",
    "    df['date'] = pd.to_datetime(df['date'], format='%Y-%m-%d')\n",
    "\n",
    "    # Transformando coluna available\n",
    "    df['available'] = df['available']=='f'\n",
    "\n",
    "    return df"
   ]
  },
  {
   "cell_type": "code",
   "execution_count": 5,
   "id": "c797b480",
   "metadata": {},
   "outputs": [],
   "source": [
    "df_prices = tratamento_df_prices(df_prices)"
   ]
  },
  {
   "cell_type": "code",
   "execution_count": 6,
   "id": "a8ff9945",
   "metadata": {},
   "outputs": [],
   "source": [
    "def tratamento_df_listings(dados):\n",
    "\n",
    "    df = dados.copy()\n",
    "\n",
    "    # Alterando coluna price\n",
    "    df['price'] = df['price'].str.replace('[$,]', '', regex = True).astype(float)\n",
    "\n",
    "    # Selecionando colunas\n",
    "    df = df[['id', 'name', 'neighbourhood_cleansed', 'latitude', 'longitude', 'price',\n",
    "             'host_id', 'host_name', 'host_response_time', 'host_response_rate', 'host_acceptance_rate',\n",
    "             'property_type', 'room_type', 'accommodates', 'bathrooms', 'bedrooms', 'beds', 'amenities',\n",
    "             'number_of_reviews', 'reviews_per_month', 'first_review', 'last_review', 'review_scores_rating']]\n",
    "    \n",
    "    # Renomeando colunas\n",
    "    df = df.rename(columns={'id': 'listing_id', 'name': 'listing_title', 'price': 'mean_price', 'neighbourhood_cleansed': 'neighborhood'})\n",
    "\n",
    "    return df"
   ]
  },
  {
   "cell_type": "code",
   "execution_count": 7,
   "id": "4713d6a6",
   "metadata": {},
   "outputs": [],
   "source": [
    "df_listings = tratamento_df_listings(df_listings)"
   ]
  },
  {
   "cell_type": "code",
   "execution_count": 10,
   "id": "004c8cb0",
   "metadata": {},
   "outputs": [
    {
     "ename": "",
     "evalue": "",
     "output_type": "error",
     "traceback": [
      "\u001b[1;31mThe Kernel crashed while executing code in the current cell or a previous cell. \n",
      "\u001b[1;31mPlease review the code in the cell(s) to identify a possible cause of the failure. \n",
      "\u001b[1;31mClick <a href='https://aka.ms/vscodeJupyterKernelCrash'>here</a> for more info. \n",
      "\u001b[1;31mView Jupyter <a href='command:jupyter.viewOutput'>log</a> for further details."
     ]
    }
   ],
   "source": [
    "# Merge\n",
    "df = pd.merge(df_listings, df_prices, on = 'listing_id', how = 'inner')"
   ]
  },
  {
   "cell_type": "code",
   "execution_count": null,
   "id": "6e90dd3d",
   "metadata": {},
   "outputs": [],
   "source": [
    "df"
   ]
  }
 ],
 "metadata": {
  "kernelspec": {
   "display_name": "Python (WSL)",
   "language": "python",
   "name": "wsl-python"
  },
  "language_info": {
   "codemirror_mode": {
    "name": "ipython",
    "version": 3
   },
   "file_extension": ".py",
   "mimetype": "text/x-python",
   "name": "python",
   "nbconvert_exporter": "python",
   "pygments_lexer": "ipython3",
   "version": "3.12.3"
  }
 },
 "nbformat": 4,
 "nbformat_minor": 5
}
